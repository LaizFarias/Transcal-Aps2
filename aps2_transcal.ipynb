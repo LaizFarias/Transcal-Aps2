{
 "cells": [
  {
   "cell_type": "code",
   "execution_count": 23,
   "id": "9ee0ae8d",
   "metadata": {},
   "outputs": [],
   "source": [
    "import matplotlib.pyplot as plt\n",
    "import numpy as np\n",
    "from math import *"
   ]
  },
  {
   "cell_type": "code",
   "execution_count": null,
   "id": "de4d591b",
   "metadata": {},
   "outputs": [],
   "source": [
    "#definindo as variáveis\n",
    "K = 1 #m^2/s\n",
    "alpha = 1 #m/s\n",
    "T = 3 #s\n",
    "Q = 100 #kg/ms\n",
    "Lx = 30 #m\n",
    "Ly = 20 #m\n",
    "a = 4/1.4 #m\n",
    "b = 60/8 #m\n",
    "\n",
    "tempo_total = 10*T\n",
    "#variação no deslocamento\n",
    "dx = 0.1\n",
    "dy = 0.1\n",
    "\n",
    "d_t = (1/(4*K))*(dx**2)\n",
    "t_med = np.arange(0,tempo_total, d_t) #meu tempo de medição\n",
    "\n",
    "#criando a matriz de pontos\n",
    "linha = int(Lx/dx) #precisa ser inteiro para criar a matriz\n",
    "coluna = int(Ly/dy)\n",
    "\n",
    "#parada é trocada\n",
    "M = np.zeros((coluna,linha))\n",
    "#print(M)\n",
    "print(coluna,coluna)\n"
   ]
  },
  {
   "cell_type": "code",
   "execution_count": null,
   "id": "e4c01da8",
   "metadata": {},
   "outputs": [],
   "source": [
    "Cf = np.copy(M) #final ou proxima\n",
    "Ca = np.copy(M) #será minha auxiliar para a conta\n",
    "\n",
    "\n",
    "\n",
    "for t in t_med:\n",
    "    for c in range(0,coluna-2):\n",
    "        for l in range(0,linha-2):\n",
    "            if t <= T and l == c:\n",
    "                Ca[c][l] += (Q/(dx*dy))*d_t\n",
    "                \n",
    "                \n",
    "            t1 = alpha*(Ca[c+1][l] - Ca[c-1][l])/(2*dx)\n",
    "            t2 = alpha*sin((pi/5)*l)*(Ca[c][l+1]-Ca[c][l-1])/(2*dy)\n",
    "            t3 = K*(Ca[c+1][l] - 2*Ca[c][l] + Ca[c-1][l])/(dx**2)\n",
    "            t4 = K*(Ca[c][c+1] - 2*Ca[c][l] + Ca[c][l-1])/(dy**2)\n",
    "\n",
    "            \n",
    "            Cf[c][l] = (-t1-t2+t3+t4)*d_t + Ca[c][l]  \n",
    "            \n",
    "            if Cf[c][l] <0:\n",
    "                Cf[c][l] = 0\n",
    "            \n",
    "    #condições de contorno        \n",
    "    Cf[0][:] = Cf[1][:]\n",
    "    Cf[-1][:] = Cf[-2][:]\n",
    "    Cf[:][0] = Cf[:][1]\n",
    "    Cf[:][-1] = Cf[:][-2]\n",
    "    \n",
    "    #preciso retornar para o Ca para o próximo cálculo\n",
    "    Ca = np.copy(Cf)   \n",
    "    \n",
    "\n",
    "#fazendo o gráfico\n",
    "plt.imshow(Cf, cmap = 'viridis', extent = [0, Lx, 0, Ly])\n",
    "plt.colorbar(label='Concentration')\n",
    "plt.xlabel(\"X\")\n",
    "plt.ylabel(\"Y\")\n",
    "plt.title(\"concentração\")\n",
    "            \n"
   ]
  },
  {
   "cell_type": "code",
   "execution_count": null,
   "id": "1a91cb3f",
   "metadata": {},
   "outputs": [],
   "source": []
  }
 ],
 "metadata": {
  "kernelspec": {
   "display_name": "Python 3 (ipykernel)",
   "language": "python",
   "name": "python3"
  },
  "language_info": {
   "codemirror_mode": {
    "name": "ipython",
    "version": 3
   },
   "file_extension": ".py",
   "mimetype": "text/x-python",
   "name": "python",
   "nbconvert_exporter": "python",
   "pygments_lexer": "ipython3",
   "version": "3.9.12"
  }
 },
 "nbformat": 4,
 "nbformat_minor": 5
}
